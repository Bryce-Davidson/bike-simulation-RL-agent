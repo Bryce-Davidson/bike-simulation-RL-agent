{
 "cells": [
  {
   "cell_type": "code",
   "execution_count": null,
   "metadata": {},
   "outputs": [],
   "source": [
    "import pandas as pd\n",
    "import seaborn as sns\n",
    "import matplotlib.pyplot as plt\n",
    "import matplotlib.animation as animation\n",
    "from IPython.display import HTML\n",
    "\n",
    "MODEL_SLUG = \"DDQN-400m-testCourse-09-12-2023_01:36\"\n",
    "\n",
    "# Load your data\n",
    "actions = pd.read_csv(f\"./models/logs/{MODEL_SLUG}/actions.csv\")\n",
    "\n",
    "# Set the style to 'darkgrid'\n",
    "sns.set_style('darkgrid')\n",
    "\n",
    "# Create a figure and an axes object\n",
    "fig, ax = plt.subplots()\n",
    "\n",
    "# Define the animate function that will be called for each frame of the animation\n",
    "def animate(i):\n",
    "    # Clear the previous plot\n",
    "    ax.clear()\n",
    "\n",
    "    # Filter the data for the current episode\n",
    "    data = actions[actions['episode'] == i]\n",
    "\n",
    "    # Create the histogram using seaborn\n",
    "    sns.histplot(data=data, x='action', ax=ax, bins=range(0, 12), color='skyblue', kde=True)\n",
    "\n",
    "    # Set the title of the plot\n",
    "    ax.set_title(f'Episode {i}', color='white')\n",
    "\n",
    "    # Set the color of the labels\n",
    "    ax.xaxis.label.set_color('white')\n",
    "    ax.yaxis.label.set_color('white')\n",
    "\n",
    "    # Set the color of the ticks\n",
    "    ax.tick_params(colors='white')\n",
    "\n",
    "# Create the animation object\n",
    "ani = animation.FuncAnimation(fig, animate, frames=actions['episode'].nunique(), interval=75, repeat=True)\n",
    "\n",
    "# Convert the animation to HTML and display it\n",
    "HTML(ani.to_jshtml())"
   ]
  }
 ],
 "metadata": {
  "kernelspec": {
   "display_name": "pyenv",
   "language": "python",
   "name": "python3"
  },
  "language_info": {
   "codemirror_mode": {
    "name": "ipython",
    "version": 3
   },
   "file_extension": ".py",
   "mimetype": "text/x-python",
   "name": "python",
   "nbconvert_exporter": "python",
   "pygments_lexer": "ipython3",
   "version": "3.9.6"
  }
 },
 "nbformat": 4,
 "nbformat_minor": 2
}
