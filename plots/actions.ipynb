{
 "cells": [
  {
   "cell_type": "code",
   "execution_count": 16,
   "metadata": {},
   "outputs": [
    {
     "name": "stdout",
     "output_type": "stream",
     "text": [
      "Using model ADDQN-400m-testCourse-09-12-2023_14:59\n"
     ]
    }
   ],
   "source": [
    "import os\n",
    "import sys\n",
    "import pandas as pd\n",
    "import numpy as np\n",
    "import matplotlib.pyplot as plt\n",
    "import seaborn as sns\n",
    "\n",
    "# The model slug is the most recently created folder in ./models/logs\n",
    "\n",
    "MODEL_SLUG = sorted(os.listdir(\"./models/trained\"))[-1]\n",
    "print(f\"Using model {MODEL_SLUG}\")\n",
    "\n",
    "actions = pd.read_csv(f\"./models/trained/{MODEL_SLUG}/logs/actions.csv\")\n",
    "\n",
    "plt.rcParams['figure.figsize'] = [15, 5]\n",
    "\n",
    "plt.close()"
   ]
  },
  {
   "cell_type": "code",
   "execution_count": 17,
   "metadata": {},
   "outputs": [
    {
     "name": "stdout",
     "output_type": "stream",
     "text": [
      "Found 0 winning episodes\n"
     ]
    }
   ],
   "source": [
    "# COLUMNS\n",
    "# -------\n",
    "# power_max_w,velocity,gradient,percent_complete,AWC,ghost_percent_complete,position,action,power_agent_w,reward,episode,ghost_action,step,total_reward\n",
    "\n",
    "# Get all the episodes where the last step in the episode is less than 62\n",
    "terminal = actions.groupby(\"episode\").last()\n",
    "\n",
    "winning_episodes = terminal[\n",
    "    (terminal[\"step\"] <= 62) &\n",
    "    ( terminal['percent_complete'] == 1.0)\n",
    "    ]\n",
    "\n",
    "print(f\"Found {len(winning_episodes)} winning episodes\")\n",
    "\n",
    "# Get these episodes from the actions dataframe\n",
    "winning_runs = actions[actions[\"episode\"].isin(winning_episodes.index)]"
   ]
  },
  {
   "cell_type": "code",
   "execution_count": 18,
   "metadata": {},
   "outputs": [
    {
     "ename": "IndexError",
     "evalue": "index 0 is out of bounds for axis 0 with size 0",
     "output_type": "error",
     "traceback": [
      "\u001b[0;31m---------------------------------------------------------------------------\u001b[0m",
      "\u001b[0;31mIndexError\u001b[0m                                Traceback (most recent call last)",
      "Cell \u001b[0;32mIn[18], line 2\u001b[0m\n\u001b[1;32m      1\u001b[0m \u001b[38;5;66;03m# get the first winning run\u001b[39;00m\n\u001b[0;32m----> 2\u001b[0m winning_run \u001b[38;5;241m=\u001b[39m winning_runs[winning_runs[\u001b[38;5;124m\"\u001b[39m\u001b[38;5;124mepisode\u001b[39m\u001b[38;5;124m\"\u001b[39m] \u001b[38;5;241m==\u001b[39m \u001b[43mwinning_episodes\u001b[49m\u001b[38;5;241;43m.\u001b[39;49m\u001b[43mindex\u001b[49m\u001b[43m[\u001b[49m\u001b[38;5;241;43m0\u001b[39;49m\u001b[43m]\u001b[49m]\n\u001b[1;32m      4\u001b[0m \u001b[38;5;66;03m# Set the style to a seaborn theme\u001b[39;00m\n\u001b[1;32m      5\u001b[0m sns\u001b[38;5;241m.\u001b[39mset_theme()\n",
      "File \u001b[0;32m~/Repos/RiderGymEnv/pyenv/lib/python3.9/site-packages/pandas/core/indexes/base.py:5365\u001b[0m, in \u001b[0;36mIndex.__getitem__\u001b[0;34m(self, key)\u001b[0m\n\u001b[1;32m   5362\u001b[0m \u001b[38;5;28;01mif\u001b[39;00m is_integer(key) \u001b[38;5;129;01mor\u001b[39;00m is_float(key):\n\u001b[1;32m   5363\u001b[0m     \u001b[38;5;66;03m# GH#44051 exclude bool, which would return a 2d ndarray\u001b[39;00m\n\u001b[1;32m   5364\u001b[0m     key \u001b[38;5;241m=\u001b[39m com\u001b[38;5;241m.\u001b[39mcast_scalar_indexer(key)\n\u001b[0;32m-> 5365\u001b[0m     \u001b[38;5;28;01mreturn\u001b[39;00m \u001b[43mgetitem\u001b[49m\u001b[43m(\u001b[49m\u001b[43mkey\u001b[49m\u001b[43m)\u001b[49m\n\u001b[1;32m   5367\u001b[0m \u001b[38;5;28;01mif\u001b[39;00m \u001b[38;5;28misinstance\u001b[39m(key, \u001b[38;5;28mslice\u001b[39m):\n\u001b[1;32m   5368\u001b[0m     \u001b[38;5;66;03m# This case is separated from the conditional above to avoid\u001b[39;00m\n\u001b[1;32m   5369\u001b[0m     \u001b[38;5;66;03m# pessimization com.is_bool_indexer and ndim checks.\u001b[39;00m\n\u001b[1;32m   5370\u001b[0m     \u001b[38;5;28;01mreturn\u001b[39;00m \u001b[38;5;28mself\u001b[39m\u001b[38;5;241m.\u001b[39m_getitem_slice(key)\n",
      "\u001b[0;31mIndexError\u001b[0m: index 0 is out of bounds for axis 0 with size 0"
     ]
    }
   ],
   "source": [
    "# get the first winning run\n",
    "winning_run = winning_runs[winning_runs[\"episode\"] == winning_episodes.index[0]]\n",
    "\n",
    "# Set the style to a seaborn theme\n",
    "sns.set_theme()\n",
    "\n",
    "# Create a new figure with a specified size\n",
    "plt.figure(figsize=(10, 6))\n",
    "\n",
    "# Plot the first bar chart (action vs. step) with blue color and 50% opacity\n",
    "plt.bar(winning_run[\"step\"], winning_run[\"action\"], color='steelblue', alpha=0.5, label='Action')\n",
    "\n",
    "# Assuming 'ghost_action' is another column in your DataFrame\n",
    "# Plot the second bar chart (ghost_action vs. step) with red color and 50% opacity\n",
    "plt.bar(winning_run[\"step\"], winning_run[\"ghost_action\"], color='red', alpha=0.1, label='Ghost Action')\n",
    "\n",
    "# Add labels and title\n",
    "plt.xlabel('Step', fontsize=10)\n",
    "plt.ylabel('Action', fontsize=10)\n",
    "plt.title('Winning Run Against 10:8 Rider ', fontsize=10)\n",
    "\n",
    "\n",
    "# Show the plot\n",
    "plt.show()"
   ]
  }
 ],
 "metadata": {
  "kernelspec": {
   "display_name": "pyenv",
   "language": "python",
   "name": "python3"
  },
  "language_info": {
   "codemirror_mode": {
    "name": "ipython",
    "version": 3
   },
   "file_extension": ".py",
   "mimetype": "text/x-python",
   "name": "python",
   "nbconvert_exporter": "python",
   "pygments_lexer": "ipython3",
   "version": "3.9.6"
  }
 },
 "nbformat": 4,
 "nbformat_minor": 2
}
