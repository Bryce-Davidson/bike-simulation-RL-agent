{
 "cells": [
  {
   "cell_type": "code",
   "execution_count": 1,
   "metadata": {},
   "outputs": [
    {
     "name": "stdout",
     "output_type": "stream",
     "text": [
      "Using model ADDQN-400m-testCourse-09-12-2023_14:16\n"
     ]
    }
   ],
   "source": [
    "import os\n",
    "import sys\n",
    "import pandas as pd\n",
    "import numpy as np\n",
    "import matplotlib.pyplot as plt\n",
    "import seaborn as sns\n",
    "\n",
    "# The model slug is the most recently created folder in ./models/logs\n",
    "\n",
    "MODEL_SLUG = sorted(os.listdir(\"./models/logs\"))[-1]\n",
    "print(f\"Using model {MODEL_SLUG}\")\n",
    "\n",
    "actions = pd.read_csv(f\"./models/logs/{MODEL_SLUG}/actions.csv\")\n",
    "\n",
    "plt.rcParams['figure.figsize'] = [15, 5]\n",
    "\n",
    "plt.close()"
   ]
  },
  {
   "cell_type": "code",
   "execution_count": null,
   "metadata": {},
   "outputs": [],
   "source": [
    "# episode,step,total_reward,power_max_w,velocity,gradient,percent_complete,AWC,\n",
    "\n",
    "# Get all the episodes where the last step in the episode is less than 62\n",
    "terminal = actions.groupby(\"episode\").last()\n",
    "\n",
    "winning_episodes = terminal[\n",
    "    (terminal[\"step\"] < 62) &\n",
    "    ( terminal['percent_complete'] == 1.0)\n",
    "    ]\n",
    "\n",
    "print(f\"Found {len(winning_episodes)} winning episodes\")\n",
    "\n",
    "# Get these episodes from the actions dataframe\n",
    "winning_runs = actions[actions[\"episode\"].isin(winning_episodes.index)]"
   ]
  },
  {
   "cell_type": "code",
   "execution_count": null,
   "metadata": {},
   "outputs": [],
   "source": [
    "# get the first winning run\n",
    "winning_run = winning_runs[winning_runs[\"episode\"] == winning_episodes.index[0]]\n",
    "\n",
    "\n",
    "# Set the style to a seaborn theme\n",
    "sns.set_theme()\n",
    "\n",
    "# Create the bar chart\n",
    "plt.figure(figsize=(10, 6))\n",
    "# Make the chart a nice color\n",
    "plt.bar(winning_run[\"step\"], winning_run[\"action\"], color='steelblue')\n",
    "\n",
    "# Add labels and title\n",
    "plt.xlabel('Step', fontsize=10)\n",
    "plt.ylabel('Action', fontsize=10)\n",
    "plt.title('Winning Run Against 10:8 Rider ', fontsize=10)\n",
    "\n",
    "# Show the plot\n",
    "plt.show()"
   ]
  }
 ],
 "metadata": {
  "kernelspec": {
   "display_name": "pyenv",
   "language": "python",
   "name": "python3"
  },
  "language_info": {
   "codemirror_mode": {
    "name": "ipython",
    "version": 3
   },
   "file_extension": ".py",
   "mimetype": "text/x-python",
   "name": "python",
   "nbconvert_exporter": "python",
   "pygments_lexer": "ipython3",
   "version": "3.9.6"
  }
 },
 "nbformat": 4,
 "nbformat_minor": 2
}
