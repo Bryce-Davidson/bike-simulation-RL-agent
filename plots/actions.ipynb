{
 "cells": [
  {
   "cell_type": "code",
   "execution_count": 25,
   "metadata": {},
   "outputs": [
    {
     "name": "stdout",
     "output_type": "stream",
     "text": [
      "Using model ADDQN-400m-testCourse-09-12-2023_15:09\n"
     ]
    }
   ],
   "source": [
    "import os\n",
    "import sys\n",
    "import pandas as pd\n",
    "import numpy as np\n",
    "import matplotlib.pyplot as plt\n",
    "import seaborn as sns\n",
    "\n",
    "# The model slug is the most recently created folder in ./models/logs\n",
    "\n",
    "TRAINED_PATH = \"./models/trained\"\n",
    "\n",
    "MODEL_SLUG = sorted(os.listdir(TRAINED_PATH))[-1]\n",
    "print(f\"Using model {MODEL_SLUG}\")\n",
    "\n",
    "actions = pd.read_csv(f\"{TRAINED_PATH}/{MODEL_SLUG}/logs/actions.csv\")\n",
    "\n",
    "plt.rcParams['figure.figsize'] = [15, 5]\n",
    "\n",
    "plt.close()"
   ]
  },
  {
   "cell_type": "code",
   "execution_count": 26,
   "metadata": {},
   "outputs": [
    {
     "name": "stdout",
     "output_type": "stream",
     "text": [
      "Found 7 winning episodes\n"
     ]
    }
   ],
   "source": [
    "# COLUMNS\n",
    "# -------\n",
    "# power_max_w,velocity,gradient,percent_complete,AWC,ghost_percent_complete,position,action,power_agent_w,reward,episode,ghost_action,step,total_reward\n",
    "\n",
    "# Get all the episodes where the last step in the episode is less than 62\n",
    "terminal = actions.groupby(\"episode\").last()\n",
    "\n",
    "winning_episodes = terminal[\n",
    "    (terminal[\"step\"] < 62) &\n",
    "    ( terminal['percent_complete'] == 1.0)\n",
    "    ]\n",
    "\n",
    "print(f\"Found {len(winning_episodes)} winning episodes\")\n",
    "\n",
    "# Get these episodes from the actions dataframe\n",
    "winning_runs = actions[actions[\"episode\"].isin(winning_episodes.index)]"
   ]
  },
  {
   "cell_type": "code",
   "execution_count": 27,
   "metadata": {},
   "outputs": [
    {
     "data": {
      "image/png": "[encoded data removed]",
      "text/plain": [
       "<Figure size 1000x600 with 1 Axes>"
      ]
     },
     "metadata": {},
     "output_type": "display_data"
    }
   ],
   "source": [
    "# get the first winning run\n",
    "winning_run = winning_runs[winning_runs[\"episode\"] == winning_episodes.index[0]]\n",
    "\n",
    "# Set the style to a seaborn theme\n",
    "sns.set_theme()\n",
    "\n",
    "# Create a new figure with a specified size\n",
    "plt.figure(figsize=(10, 6))\n",
    "\n",
    "# Plot the first bar chart (action vs. step) with blue color and 50% opacity\n",
    "plt.bar(winning_run[\"step\"], winning_run[\"action\"], color='steelblue', alpha=0.5, label='Action')\n",
    "\n",
    "# Assuming 'ghost_action' is another column in your DataFrame\n",
    "# Plot the second bar chart (ghost_action vs. step) with red color and 50% opacity\n",
    "plt.bar(winning_run[\"step\"], winning_run[\"ghost_action\"], color='red', alpha=0.1, label='Ghost Action')\n",
    "\n",
    "# Add labels and title\n",
    "plt.xlabel('Step', fontsize=10)\n",
    "plt.ylabel('Action', fontsize=10)\n",
    "plt.title('Winning Run Against 10:8 Rider ', fontsize=10)\n",
    "\n",
    "\n",
    "# Show the plot\n",
    "plt.show()"
   ]
  }
 ],
 "metadata": {
  "kernelspec": {
   "display_name": "pyenv",
   "language": "python",
   "name": "python3"
  },
  "language_info": {
   "codemirror_mode": {
    "name": "ipython",
    "version": 3
   },
   "file_extension": ".py",
   "mimetype": "text/x-python",
   "name": "python",
   "nbconvert_exporter": "python",
   "pygments_lexer": "ipython3",
   "version": "3.9.6"
  }
 },
 "nbformat": 4,
 "nbformat_minor": 2
}
